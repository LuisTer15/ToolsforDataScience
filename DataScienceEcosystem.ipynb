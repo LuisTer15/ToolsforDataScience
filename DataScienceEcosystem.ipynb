{
 "cells": [
  {
   "cell_type": "markdown",
   "id": "c2a472c0-f926-4683-9a62-0c337a49ea90",
   "metadata": {},
   "source": [
    "# Data Science Tools and Ecosystem"
   ]
  },
  {
   "cell_type": "markdown",
   "id": "a8d2f709-dad6-4256-a22b-eadf80983e19",
   "metadata": {},
   "source": [
    "In this notebook, Data Science tools and Ecosystems are summarized."
   ]
  },
  {
   "cell_type": "markdown",
   "id": "7d92897e-2e0e-4a5e-9e14-0269430947dc",
   "metadata": {},
   "source": [
    "Some of the popular languages that Data Scientists use are:\n",
    "1. Python\n",
    "2. R\n",
    "3. SQL"
   ]
  },
  {
   "cell_type": "markdown",
   "id": "d9cd9120-8cb3-4bc7-a377-22a2ef51e96e",
   "metadata": {},
   "source": [
    "Some of the commonly used libraries used by Data Scientists include:\n",
    "1. Seaborn\n",
    "2. NumPy\n",
    "3. Matplotlib"
   ]
  },
  {
   "cell_type": "markdown",
   "id": "6c1c693f-bd27-45e7-9c97-0079cc919f23",
   "metadata": {},
   "source": [
    "| Data Science Tools |\n",
    "|--------------------|\n",
    "| RStudio |\n",
    "| PyCharm |\n",
    "| Microsoft Visual Studio  |"
   ]
  },
  {
   "cell_type": "markdown",
   "id": "efe54e86-79a5-4f88-892d-f890475495e0",
   "metadata": {},
   "source": [
    "### Below are a few examples of evaluating arithmetic expressions in Python.\n",
    "\n",
    "    [1]: print(2+2+4)\n",
    "    [2]: 8\n",
    "\n",
    "    [1]: 2*10\n",
    "    [2]: 20\n",
    "\n",
    "    [1]: n = 10/2\n",
    "    [2]: print(n)\n",
    "    [1]: 5.0"
   ]
  },
  {
   "cell_type": "code",
   "execution_count": 22,
   "id": "70bc7068-6a75-41c8-9b18-45d917a50655",
   "metadata": {},
   "outputs": [
    {
     "data": {
      "text/plain": [
       "17"
      ]
     },
     "execution_count": 22,
     "metadata": {},
     "output_type": "execute_result"
    }
   ],
   "source": [
    "# This is a simple arithmetic expression to multiply\n",
    "(3*4)+5"
   ]
  },
  {
   "cell_type": "code",
   "execution_count": 24,
   "id": "8690ad87-d509-4f49-a04b-8c9136a8d26f",
   "metadata": {},
   "outputs": [
    {
     "data": {
      "text/plain": [
       "3.3333333333333335"
      ]
     },
     "execution_count": 24,
     "metadata": {},
     "output_type": "execute_result"
    }
   ],
   "source": [
    "# This will convert 200 minutes to hours by diving by 60\n",
    "200/60"
   ]
  },
  {
   "cell_type": "markdown",
   "id": "54fa0141-b240-44bb-9fb7-ea6c75ed6fab",
   "metadata": {},
   "source": [
    "**Objectives:**\n",
    "\n",
    "- List popular languages for Data Science\n",
    "- List popular Open Source tools for Data Science\n",
    "- List commonly use libraries for Data Science\n",
    "- Evaluate arithmetic expressions in Python code"
   ]
  },
  {
   "cell_type": "markdown",
   "id": "f759b8db-a197-4383-927d-3ee088c81db7",
   "metadata": {},
   "source": [
    "## Author:\n",
    "Luis Eduardo Ternera Hernandez"
   ]
  }
 ],
 "metadata": {
  "kernelspec": {
   "display_name": "anaconda-panel-2023.05-py310",
   "language": "python",
   "name": "conda-env-anaconda-panel-2023.05-py310-py"
  },
  "language_info": {
   "codemirror_mode": {
    "name": "ipython",
    "version": 3
   },
   "file_extension": ".py",
   "mimetype": "text/x-python",
   "name": "python",
   "nbconvert_exporter": "python",
   "pygments_lexer": "ipython3",
   "version": "3.11.5"
  }
 },
 "nbformat": 4,
 "nbformat_minor": 5
}
